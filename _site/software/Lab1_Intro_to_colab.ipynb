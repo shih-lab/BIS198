{
  "nbformat": 4,
  "nbformat_minor": 0,
  "metadata": {
    "colab": {
      "name": "Lab1_Intro-to-colab.ipynb",
      "provenance": []
    },
    "kernelspec": {
      "name": "python3",
      "display_name": "Python 3"
    }
  },
  "cells": [
    {
      "cell_type": "markdown",
      "metadata": {
        "id": "s-Ad60siWmw6"
      },
      "source": [
        "# Lab 1: Python, iPython, and Google Colaboratory\n",
        "\n",
        "Welcome to BIS198 Systems and Synthetic Biology Lab!  \n",
        "Throughout the course, we will be using the Python programming language to explore biologial datasets.  To ensure a consistent programming environment for everyone regardless of computational power, installed software, and operating systems, all labs will be performed using Google Colaboratory."
      ]
    },
    {
      "cell_type": "markdown",
      "metadata": {
        "id": "LQ2yrNNPWK9E"
      },
      "source": [
        "<p><img alt=\"Colaboratory logo\" height=\"45px\" src=\"/img/colab_favicon.ico\" align=\"left\" hspace=\"10px\" vspace=\"0px\"></p>\n",
        "\n",
        "<h1>What is Colaboratory?</h1>\n",
        "\n",
        "Colaboratory, or \"Colab\" for short, allows you to write and execute Python in your browser, with\n",
        "- Zero configuration required\n",
        "- Free access to GPUs\n",
        "- Easy sharing\n",
        "\n",
        "Watch [Introduction to Colab](https://www.youtube.com/watch?v=inN8seMm7UI) to learn more."
      ]
    },
    {
      "cell_type": "markdown",
      "metadata": {
        "id": "MlhqGrlVaaJ5"
      },
      "source": [
        "Below this cell is a `code cell` with a small python script.  The code is run line by line and one can input any number of lines of code into a cell\n",
        "\n",
        "To execute the code, select it with a click and then either press the play button to the left of the code, or use the keyboard shortcut \"Command/Ctrl+Enter\". To edit the code, just click the cell and start editing."
      ]
    },
    {
      "cell_type": "code",
      "metadata": {
        "colab": {
          "base_uri": "https://localhost:8080/"
        },
        "id": "DHuhZmuYV_lp",
        "outputId": "d0d12141-8758-4a23-9cf3-d2c7e8cd5d71"
      },
      "source": [
        "# Feel free to edit this code cell and change the name variable to your own name\n",
        "# Then run the cell again\n",
        "name = \"World\"\n",
        "print('Hello', name+\"!\")"
      ],
      "execution_count": 8,
      "outputs": [
        {
          "output_type": "stream",
          "text": [
            "Hello World!\n"
          ],
          "name": "stdout"
        }
      ]
    },
    {
      "cell_type": "markdown",
      "metadata": {
        "id": "YxiqULnfYsQq"
      },
      "source": [
        "This cell is a `text cell` which takes markup language such as HTML or Markdown as input.  Think of it as a notepad you can type in.  Click on the cell to see how it was written.  Here are some examples:\n",
        "\n",
        "# Big Heading\n",
        "## Smaller heading\n",
        "### Even smaller heading\n",
        "\n",
        "- bullet 1\n",
        "- bullet 2\n",
        "\n",
        "1. **Bold** item\n",
        "2. *Italicized* item"
      ]
    },
    {
      "cell_type": "code",
      "metadata": {
        "id": "8CzG7kxYYkon"
      },
      "source": [
        ""
      ],
      "execution_count": null,
      "outputs": []
    }
  ]
}